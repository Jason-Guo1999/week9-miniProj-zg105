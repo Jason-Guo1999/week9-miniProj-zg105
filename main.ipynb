{
 "cells": [
  {
   "cell_type": "code",
   "execution_count": null,
   "metadata": {},
   "outputs": [],
   "source": [
    "import polars as pl\n",
    "import plotly.express as px\n",
    "import matplotlib.pyplot as plt"
   ]
  },
  {
   "cell_type": "code",
   "execution_count": null,
   "metadata": {},
   "outputs": [],
   "source": [
    "## Calculate median\n",
    "def stats_median(df):\n",
    "    return df[\"Grade\"].median()\n",
    "\n",
    "## Calculate mean\n",
    "def stats_mean(df):\n",
    "    return df[\"Grade\"].mean()\n",
    "\n",
    "## Calculate standard deviation \n",
    "def stats_std(df):\n",
    "    return df[\"Grade\"].std()\n",
    "\n",
    "## Create report of output\n",
    "def report(df):\n",
    "    result = {\n",
    "        \"mean\": (stats_mean(df)),\n",
    "        \"median\": (stats_median(df)),\n",
    "        \"std_dev\": (stats_std(df)),\n",
    "    }\n",
    "\n",
    "    file_path=\"desc_result.txt\"\n",
    "    with open(file_path, \"w\") as f:\n",
    "        for key, value in result.items():\n",
    "            f.write(\"%s:%s\\n\" % (key, value))\n",
    "            f.write('\\n')\n",
    "\n",
    "def visualization(df):\n",
    "    plt.hist(df[::,2].to_numpy(), edgecolor=\"k\")\n",
    "    plt.title(\"Distribution of grades\")\n",
    "    plt.xlabel(\"grades\")\n",
    "    plt.ylabel(\"Count\")\n",
    "    plt.savefig(f\"grades_distribution.png\")"
   ]
  },
  {
   "cell_type": "code",
   "execution_count": null,
   "metadata": {},
   "outputs": [],
   "source": [
    "def desc():\n",
    "    df = pl.read_csv('class_grades.csv')\n",
    "    report(df)"
   ]
  },
  {
   "cell_type": "code",
   "execution_count": null,
   "metadata": {},
   "outputs": [],
   "source": [
    "def visual():\n",
    "    df = pl.read_csv('class_grades.csv')\n",
    "    visualization(df)"
   ]
  }
 ],
 "metadata": {
  "kernelspec": {
   "display_name": "Python 3",
   "language": "python",
   "name": "python3"
  },
  "language_info": {
   "codemirror_mode": {
    "name": "ipython",
    "version": 3
   },
   "file_extension": ".py",
   "mimetype": "text/x-python",
   "name": "python",
   "nbconvert_exporter": "python",
   "pygments_lexer": "ipython3",
   "version": "3.10.12"
  },
  "orig_nbformat": 4
 },
 "nbformat": 4,
 "nbformat_minor": 2
}
