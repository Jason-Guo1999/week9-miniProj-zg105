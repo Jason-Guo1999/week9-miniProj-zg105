{
 "cells": [
  {
   "cell_type": "code",
   "execution_count": 1,
   "metadata": {},
   "outputs": [],
   "source": [
    "import polars as pl\n",
    "from lib import stats_mean, stats_median, stats_std"
   ]
  },
  {
   "cell_type": "code",
   "execution_count": 2,
   "metadata": {},
   "outputs": [],
   "source": [
    "def test_values(df):\n",
    "    mean = stats_mean(df)\n",
    "    std = stats_std(df)\n",
    "    assert (stats_median(df)) == 77.0\n",
    "    assert (abs(mean-77.44)) < 0.1\n",
    "    assert (abs(std-12.732987850140937)) < 0.1\n",
    "    print(\"CI passed\")"
   ]
  },
  {
   "cell_type": "code",
   "execution_count": 3,
   "metadata": {},
   "outputs": [
    {
     "name": "stdout",
     "output_type": "stream",
     "text": [
      "77.44\n",
      "CI passed\n"
     ]
    }
   ],
   "source": [
    "df = pl.read_csv(\"class_grades.csv\")\n",
    "test_values(df)"
   ]
  }
 ],
 "metadata": {
  "kernelspec": {
   "display_name": "Python 3",
   "language": "python",
   "name": "python3"
  },
  "language_info": {
   "codemirror_mode": {
    "name": "ipython",
    "version": 3
   },
   "file_extension": ".py",
   "mimetype": "text/x-python",
   "name": "python",
   "nbconvert_exporter": "python",
   "pygments_lexer": "ipython3",
   "version": "3.10.12"
  },
  "orig_nbformat": 4
 },
 "nbformat": 4,
 "nbformat_minor": 2
}
